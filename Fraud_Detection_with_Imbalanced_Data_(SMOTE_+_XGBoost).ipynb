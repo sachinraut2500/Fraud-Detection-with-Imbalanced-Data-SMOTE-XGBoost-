{
  "nbformat": 4,
  "nbformat_minor": 0,
  "metadata": {
    "colab": {
      "provenance": []
    },
    "kernelspec": {
      "name": "python3",
      "display_name": "Python 3"
    },
    "language_info": {
      "name": "python"
    }
  },
  "cells": [
    {
      "cell_type": "code",
      "execution_count": null,
      "metadata": {
        "id": "4LD5WkI-cr4f"
      },
      "outputs": [],
      "source": [
        "# fraud_detection_smote_xgboost.py\n",
        "\n",
        "import pandas as pd\n",
        "from sklearn.model_selection import train_test_split\n",
        "from sklearn.metrics import classification_report, confusion_matrix\n",
        "from imblearn.over_sampling import SMOTE\n",
        "from xgboost import XGBClassifier\n",
        "from sklearn.preprocessing import StandardScaler\n",
        "\n",
        "def load_data():\n",
        "    # Load credit card fraud dataset from Kaggle (or a similar CSV)\n",
        "    url = \"https://www.dropbox.com/s/0vlqot9lct16bjj/creditcard.csv?dl=1\"\n",
        "    df = pd.read_csv(url)\n",
        "    return df\n",
        "\n",
        "def preprocess_data(df):\n",
        "    X = df.drop(['Class'], axis=1)\n",
        "    y = df['Class']\n",
        "\n",
        "    scaler = StandardScaler()\n",
        "    X_scaled = scaler.fit_transform(X)\n",
        "\n",
        "    return train_test_split(X_scaled, y, test_size=0.3, random_state=42, stratify=y)\n",
        "\n",
        "def handle_imbalance(X_train, y_train):\n",
        "    sm = SMOTE(random_state=42)\n",
        "    X_res, y_res = sm.fit_resample(X_train, y_train)\n",
        "    return X_res, y_res\n",
        "\n",
        "def train_model(X, y):\n",
        "    model = XGBClassifier(use_label_encoder=False, eval_metric='logloss')\n",
        "    model.fit(X, y)\n",
        "    return model\n",
        "\n",
        "def main():\n",
        "    print(\"Loading data...\")\n",
        "    df = load_data()\n",
        "\n",
        "    print(\"Preprocessing data...\")\n",
        "    X_train, X_test, y_train, y_test = preprocess_data(df)\n",
        "\n",
        "    print(\"Balancing data with SMOTE...\")\n",
        "    X_res, y_res = handle_imbalance(X_train, y_train)\n",
        "\n",
        "    print(\"Training XGBoost model...\")\n",
        "    model = train_model(X_res, y_res)\n",
        "\n",
        "    print(\"Evaluating model...\")\n",
        "    y_pred = model.predict(X_test)\n",
        "\n",
        "    print(\"Confusion Matrix:\\n\", confusion_matrix(y_test, y_pred))\n",
        "    print(\"\\nClassification Report:\\n\", classification_report(y_test, y_pred))\n",
        "\n",
        "if __name__ == \"__main__\":\n",
        "    main()\n"
      ]
    }
  ]
}